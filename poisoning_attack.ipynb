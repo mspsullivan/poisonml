{
  "cells": [
    {
      "cell_type": "markdown",
      "metadata": {
        "id": "view-in-github",
        "colab_type": "text"
      },
      "source": [
        "<a href=\"https://colab.research.google.com/github/mspsullivan/poisonml/blob/main/poisoning_attack.ipynb\" target=\"_parent\"><img src=\"https://colab.research.google.com/assets/colab-badge.svg\" alt=\"Open In Colab\"/></a>"
      ]
    },
    {
      "cell_type": "markdown",
      "id": "167d8f6c",
      "metadata": {
        "id": "167d8f6c"
      },
      "source": [
        "# Poisonml \n",
        "# Training Data poisoning attack.\n",
        "# This notebook implements sleeper agent attack"
      ]
    },
    {
      "cell_type": "markdown",
      "id": "64fc35bd",
      "metadata": {
        "id": "64fc35bd"
      },
      "source": [
        "In this notebook, we will learn how to use ART to run a Hidden Trigger Backdoor Attack Sleeper Agent poisoning attack on a neural network trained with Pytorch. We will be training our data on a subset of the CIFAR-10 dataset. The methods described are derived from [this paper](https://arxiv.org/pdf/2106.08970.pdf) by Hossein Souri, et. al. 2021.\n",
        "\n",
        "#Initialization 1"
      ]
    },
    {
      "cell_type": "code",
      "source": [
        "!pip install adversarial-robustness-toolbox"
      ],
      "metadata": {
        "id": "F94oZ8w97OIO",
        "outputId": "df1c9004-5954-4add-871e-5799748ab6c5",
        "colab": {
          "base_uri": "https://localhost:8080/"
        }
      },
      "id": "F94oZ8w97OIO",
      "execution_count": 12,
      "outputs": [
        {
          "output_type": "stream",
          "name": "stdout",
          "text": [
            "Looking in indexes: https://pypi.org/simple, https://us-python.pkg.dev/colab-wheels/public/simple/\n",
            "Requirement already satisfied: adversarial-robustness-toolbox in /usr/local/lib/python3.9/dist-packages (1.13.1)\n",
            "Requirement already satisfied: scipy>=1.4.1 in /usr/local/lib/python3.9/dist-packages (from adversarial-robustness-toolbox) (1.10.1)\n",
            "Requirement already satisfied: six in /usr/local/lib/python3.9/dist-packages (from adversarial-robustness-toolbox) (1.15.0)\n",
            "Requirement already satisfied: tqdm in /usr/local/lib/python3.9/dist-packages (from adversarial-robustness-toolbox) (4.65.0)\n",
            "Requirement already satisfied: setuptools in /usr/local/lib/python3.9/dist-packages (from adversarial-robustness-toolbox) (57.4.0)\n",
            "Requirement already satisfied: numpy>=1.18.0 in /usr/local/lib/python3.9/dist-packages (from adversarial-robustness-toolbox) (1.22.4)\n",
            "Requirement already satisfied: scikit-learn<1.2.0,>=0.22.2 in /usr/local/lib/python3.9/dist-packages (from adversarial-robustness-toolbox) (1.1.3)\n",
            "Requirement already satisfied: joblib>=1.0.0 in /usr/local/lib/python3.9/dist-packages (from scikit-learn<1.2.0,>=0.22.2->adversarial-robustness-toolbox) (1.2.0)\n",
            "Requirement already satisfied: threadpoolctl>=2.0.0 in /usr/local/lib/python3.9/dist-packages (from scikit-learn<1.2.0,>=0.22.2->adversarial-robustness-toolbox) (3.1.0)\n"
          ]
        }
      ]
    },
    {
      "cell_type": "markdown",
      "source": [
        "#Initialization 2"
      ],
      "metadata": {
        "id": "FMmEx89CnlyF"
      },
      "id": "FMmEx89CnlyF"
    },
    {
      "cell_type": "code",
      "execution_count": 13,
      "id": "501c126e",
      "metadata": {
        "id": "501c126e"
      },
      "outputs": [],
      "source": [
        "import math\n",
        "from tqdm import trange\n",
        "import numpy as np\n",
        "import os, sys\n",
        "import pdb\n",
        "from PIL import Image\n",
        "from numpy import asarray\n",
        "from skimage.transform import resize\n",
        "import random\n",
        "from art.estimators.classification import PyTorchClassifier\n",
        "from art.utils import load_cifar10\n",
        "from torchvision.models.resnet import BasicBlock, Bottleneck\n",
        "import torch\n",
        "import torch.nn as nn\n",
        "from torch.utils.data import TensorDataset, DataLoader\n",
        "import torchvision\n",
        "import torch.nn.functional as F"
      ]
    },
    {
      "cell_type": "markdown",
      "source": [
        "#Initialization 3"
      ],
      "metadata": {
        "id": "6dzXsJrXz-20"
      },
      "id": "6dzXsJrXz-20"
    },
    {
      "cell_type": "code",
      "execution_count": 14,
      "id": "b9de724d",
      "metadata": {
        "id": "b9de724d"
      },
      "outputs": [],
      "source": [
        "module_path = os.path.abspath(os.path.join('..'))\n",
        "if module_path not in sys.path:\n",
        "    sys.path.append(module_path)\n",
        "module_path = os.path.abspath(os.path.join('.'))\n",
        "if module_path not in sys.path:\n",
        "    sys.path.append(module_path)"
      ]
    },
    {
      "cell_type": "markdown",
      "id": "50fd61d1",
      "metadata": {
        "id": "50fd61d1"
      },
      "source": [
        "# Model engineering 1\n",
        "## Substitute Model Training "
      ]
    },
    {
      "cell_type": "code",
      "execution_count": 15,
      "id": "8a4f0cec",
      "metadata": {
        "id": "8a4f0cec"
      },
      "outputs": [],
      "source": [
        "(x_train, y_train), (x_test, y_test), min_, max_ = load_cifar10()\n",
        "x_train = np.transpose(x_train, (0, 3, 1, 2)).astype(np.float32)\n",
        "x_test = np.transpose(x_test, (0, 3, 1, 2)).astype(np.float32)\n",
        "mean = np.mean(x_train,axis=(0,1,2,3))\n",
        "std = np.std(x_train,axis=(0,1,2,3))\n",
        "\n",
        "patch_size = 8\n",
        "device = torch.device(\"cuda:0\" if torch.cuda.is_available() else \"cpu\")\n",
        "\n",
        "import urllib.request\n",
        "urllib.request.urlretrieve('https://raw.githubusercontent.com/mspsullivan/poisonml/main/trigger_10.png', \"trigger_10.png\")  \n",
        "img = Image.open('trigger_10.png')\n",
        "numpydata = asarray(img)\n",
        "patch = resize(numpydata, (patch_size,patch_size,3))\n",
        "patch = np.transpose(patch,(2,0,1))\n",
        "x_train_orig = np.copy(x_train)\n"
      ]
    },
    {
      "cell_type": "code",
      "source": [
        "#Test label access\n",
        "classes = ('plane', 'car', 'bird', 'cat',\n",
        "           'deer', 'dog', 'frog', 'horse', 'ship', 'truck')\n",
        "#for elem in y_train:\n",
        "#  print(str(classes[int(elem[0])]) + \"\\n\")"
      ],
      "metadata": {
        "id": "1bodS6DPgl4f"
      },
      "id": "1bodS6DPgl4f",
      "execution_count": 16,
      "outputs": []
    },
    {
      "cell_type": "markdown",
      "source": [
        "# Model engineering 2"
      ],
      "metadata": {
        "id": "mXtmVeeX5Jt8"
      },
      "id": "mXtmVeeX5Jt8"
    },
    {
      "cell_type": "code",
      "execution_count": 17,
      "id": "69e3ffe8",
      "metadata": {
        "id": "69e3ffe8",
        "outputId": "5784be6e-54a3-4145-8505-7d050aedf76d",
        "colab": {
          "base_uri": "https://localhost:8080/"
        }
      },
      "outputs": [
        {
          "output_type": "stream",
          "name": "stdout",
          "text": [
            "Accuracy on benign test examples: 73.61%\n"
          ]
        }
      ],
      "source": [
        "num_classes = 10\n",
        "loss_fn = nn.CrossEntropyLoss()\n",
        "model = torchvision.models.ResNet(torchvision.models.resnet.BasicBlock, [2, 2, 2, 2], num_classes=num_classes)\n",
        "optimizer = torch.optim.SGD(model.parameters(), lr=0.1, momentum=0.9, weight_decay=5e-4, nesterov=True)\n",
        "model_art = PyTorchClassifier(model,input_shape=x_train.shape[1:], loss=loss_fn, optimizer=optimizer, nb_classes=10, clip_values=(min_, max_), preprocessing=(mean,std))\n",
        "model_art.fit(x_train, y_train, batch_size=128, nb_epochs=80,verbose=0)\n",
        "predictions = model_art.predict(x_test)\n",
        "accuracy = np.sum(np.argmax(predictions, axis=1) == np.argmax(y_test, axis=1)) / len(y_test)\n",
        "print(\"Accuracy on benign test examples: {}%\".format(accuracy * 100))"
      ]
    },
    {
      "cell_type": "markdown",
      "id": "9b1ca858",
      "metadata": {
        "id": "9b1ca858"
      },
      "source": [
        "# Model engineering 3\n",
        "## Define Source and Target Class"
      ]
    },
    {
      "cell_type": "code",
      "execution_count": 18,
      "id": "535c3171",
      "metadata": {
        "id": "535c3171"
      },
      "outputs": [],
      "source": [
        "class_source = 0\n",
        "class_target = 1\n",
        "K = 1000"
      ]
    },
    {
      "cell_type": "markdown",
      "id": "8898bf97",
      "metadata": {
        "id": "8898bf97"
      },
      "source": [
        "# Data engineering 1\n",
        "## Select Triggers from Source Class and helper functions for calculating Success Rate"
      ]
    },
    {
      "cell_type": "code",
      "execution_count": 19,
      "id": "0ffa74a7",
      "metadata": {
        "id": "0ffa74a7"
      },
      "outputs": [],
      "source": [
        "from art.utils import to_categorical\n",
        "from art.attacks.poisoning.sleeper_agent_attack import SleeperAgentAttack\n",
        "\n",
        "def select_trigger_train(x_train,y_train,K,class_source,class_target):\n",
        "    x_train_ = np.copy(x_train)\n",
        "    index_source = np.where(y_train.argmax(axis=1)==class_source)[0][0:K]\n",
        "    index_target = np.where(y_train.argmax(axis=1)==class_target)[0]\n",
        "    x_trigger = x_train_[index_source]\n",
        "    y_trigger  = to_categorical([class_target], nb_classes=10)\n",
        "    y_trigger = np.tile(y_trigger,(len(index_source),1))\n",
        "    return x_trigger,y_trigger,index_target\n",
        "   "
      ]
    },
    {
      "cell_type": "markdown",
      "id": "fac33a35",
      "metadata": {
        "id": "fac33a35"
      },
      "source": [
        "# Data Engineering 2\n",
        "## Generate Poison Images through attack "
      ]
    },
    {
      "cell_type": "code",
      "execution_count": 20,
      "id": "fcb2f48d",
      "metadata": {
        "scrolled": true,
        "id": "fcb2f48d",
        "outputId": "894512c4-6b72-47b5-8e75-ea03e35db797",
        "colab": {
          "referenced_widgets": [
            "37f9b73d3075400fa32d864fc2145888",
            "788493073d7643d5847f8350c0cab3ae",
            "f011d9c761a74991b2efcf541c9e6860",
            "4e5c19b96185493c9c9d2e87cc853cd6",
            "776632f7d57b417d84f328de629b60be",
            "a3450726df194e42bccfd4f3ab68b7cd",
            "ec093539e6fa4bda8fdc47e9811cc5e5",
            "555ce16200ff4f69bde1b0565e2b35b0",
            "01281c122284494f8f627652fcb782e0",
            "ec44887fba8e405ca2c6b5378a5662a6",
            "87a96c821bec426d84677887f50b3920",
            "757cc4893eb84e33824d6e4c2ce7f8dc",
            "5ab1e307ddba46a8a1654aef830e1d2a",
            "cd92c977bf7543a4a674862ac6ff3179",
            "19dab1bdb12f407d983ff8849e37462c",
            "93f4abcc23fc4743b814c1bd818e2468",
            "4c7b48824d0f4e97b3681da2f8521ecd",
            "0d41bad7f0ea435baa7ee2d6b0141483",
            "04c5f1865aad4dd8aa1b59254fe1e256",
            "3f95257f02f34159be84b7bad648f0c3",
            "8857373eb42a423993426cb270e3d25f",
            "8059154d77274fa88ac76279b7939fce",
            "653c58718898468482dac062633d3cce",
            "8602826901da4b7c99901c1e82cee91f",
            "c94f6e99546a458cae2c2f3ada317202",
            "4b65a2e106bb4212b96d9ba00967b581",
            "3bac2bb5597b44cf81fbebd176f2b7fe",
            "85f8eddfa4484fa5a23c3d039b1ec494",
            "8951adaa4cf949b9965f63d1dc68427c",
            "a083146419514aa58f92b5d4346bb461",
            "ea7eec1651164aa882f0b7727518d455",
            "b5b9562f1c734d36b798b183b21c6407",
            "75418ebbe1cb456192dda4c42ad0ace9",
            "eccc9cc1cb8b46fea9bcb1fba49c681a",
            "ca9a2393ba3141539cb81ddebcdea49a",
            "23392d5680a64da4b8cec6c8c556fb25",
            "cd0a04a3d0f3403a962668167f2bc0a9",
            "ec1fb1584cd84f599a9cb61226aeb222",
            "1f087c8a3a484973b68cdd50d070362d",
            "0d68933de65643c2bfa957a155407dc8",
            "115685ef5be2458db5c793c589f015f0",
            "b42590876a3f4c7f9337b64fe8fbebf0",
            "3b98214d824841dbac980d2523da471a",
            "2803ed1922db4e34a816a383c5bbedeb",
            "5d3b9a50bbec4030957cba0e0ccc85e2",
            "a9d20219d5c741ffb685dfea874b1a54",
            "b1dab49d3d8f4e5d9f6cb95debf4f3bd",
            "53253111b93d4e879d45e4cb35218346",
            "fa66d76b83c54a0794fa5e57f49462d3",
            "d38a3c3c383443c4b138725af1cce989",
            "d323e0a198f54f65a84e7f4a99352d77",
            "7d9bd16dce5c4f51ae86219557af3baf",
            "02f121fdb225412ca1865003fb37d45f",
            "6d4cd16e840f4889b9b82d11e142c627",
            "ca599666d5f3482aafc9ae9a38afa66f"
          ],
          "base_uri": "https://localhost:8080/",
          "height": 177
        }
      },
      "outputs": [
        {
          "output_type": "display_data",
          "data": {
            "text/plain": [
              "  0%|          | 0/1 [00:00<?, ?it/s]"
            ],
            "application/vnd.jupyter.widget-view+json": {
              "version_major": 2,
              "version_minor": 0,
              "model_id": "37f9b73d3075400fa32d864fc2145888"
            }
          },
          "metadata": {}
        },
        {
          "output_type": "display_data",
          "data": {
            "text/plain": [
              "  0%|          | 0/125 [00:00<?, ?it/s]"
            ],
            "application/vnd.jupyter.widget-view+json": {
              "version_major": 2,
              "version_minor": 0,
              "model_id": "757cc4893eb84e33824d6e4c2ce7f8dc"
            }
          },
          "metadata": {}
        },
        {
          "output_type": "display_data",
          "data": {
            "text/plain": [
              "  0%|          | 0/125 [00:00<?, ?it/s]"
            ],
            "application/vnd.jupyter.widget-view+json": {
              "version_major": 2,
              "version_minor": 0,
              "model_id": "653c58718898468482dac062633d3cce"
            }
          },
          "metadata": {}
        },
        {
          "output_type": "display_data",
          "data": {
            "text/plain": [
              "  0%|          | 0/125 [00:00<?, ?it/s]"
            ],
            "application/vnd.jupyter.widget-view+json": {
              "version_major": 2,
              "version_minor": 0,
              "model_id": "eccc9cc1cb8b46fea9bcb1fba49c681a"
            }
          },
          "metadata": {}
        },
        {
          "output_type": "display_data",
          "data": {
            "text/plain": [
              "  0%|          | 0/125 [00:00<?, ?it/s]"
            ],
            "application/vnd.jupyter.widget-view+json": {
              "version_major": 2,
              "version_minor": 0,
              "model_id": "5d3b9a50bbec4030957cba0e0ccc85e2"
            }
          },
          "metadata": {}
        }
      ],
      "source": [
        "x_trigger,y_trigger,index_target = select_trigger_train(x_train,y_train,K,class_source,class_target)\n",
        "attack = SleeperAgentAttack(model_art,\n",
        "                                percent_poison=0.50,\n",
        "                                max_trials=1,\n",
        "                                max_epochs=500,\n",
        "                                learning_rate_schedule=(np.array([1e-1, 1e-2, 1e-3, 1e-4, 1e-5]), [250, 350, 400, 430, 460]),\n",
        "                                epsilon=16/255,\n",
        "                                batch_size=500,\n",
        "                                verbose=1,\n",
        "                                indices_target=index_target,\n",
        "                                patching_strategy=\"random\",\n",
        "                                selection_strategy=\"max-norm\",\n",
        "                                patch=patch,\n",
        "                                retraining_factor = 4,\n",
        "                                model_retrain = True,\n",
        "                                model_retraining_epoch = 80,\n",
        "                                retrain_batch_size = 128,\n",
        "                                class_source = class_source,\n",
        "                                class_target = class_target,\n",
        "                                device_name = str(device)       \n",
        "                           )\n",
        "x_poison, y_poison = attack.poison(x_trigger,y_trigger,x_train,y_train,x_test,y_test) \n",
        "indices_poison = attack.get_poison_indices()"
      ]
    },
    {
      "cell_type": "markdown",
      "id": "96f9f34b",
      "metadata": {
        "id": "96f9f34b"
      },
      "source": [
        "# Data engineering 3\n",
        "## Check indices selected for poisoning"
      ]
    },
    {
      "cell_type": "code",
      "execution_count": 21,
      "id": "8628d43b",
      "metadata": {
        "id": "8628d43b",
        "outputId": "41986e75-d539-4011-ee30-a7147bc7c835",
        "colab": {
          "base_uri": "https://localhost:8080/"
        }
      },
      "outputs": [
        {
          "output_type": "execute_result",
          "data": {
            "text/plain": [
              "array([   1,    3,    7, ..., 4988, 4992, 4999])"
            ]
          },
          "metadata": {},
          "execution_count": 21
        }
      ],
      "source": [
        "indices_poison.sort()\n",
        "indices_poison"
      ]
    },
    {
      "cell_type": "markdown",
      "id": "e90d3224",
      "metadata": {
        "id": "e90d3224"
      },
      "source": [
        "#Model engineering 4\n",
        "## Train Victim Model with poisoned images"
      ]
    },
    {
      "cell_type": "code",
      "execution_count": 22,
      "id": "3ddb074d",
      "metadata": {
        "id": "3ddb074d",
        "outputId": "6cc191ca-7bec-4fdf-f605-d50e070523fa",
        "colab": {
          "base_uri": "https://localhost:8080/"
        }
      },
      "outputs": [
        {
          "output_type": "stream",
          "name": "stdout",
          "text": [
            "Test success rate on benign test examples: 72.62%\n"
          ]
        }
      ],
      "source": [
        "loss_fn = nn.CrossEntropyLoss()\n",
        "model = torchvision.models.ResNet(torchvision.models.resnet.BasicBlock, [2, 2, 2, 2], num_classes=num_classes)\n",
        "optimizer = torch.optim.SGD(model.parameters(), lr=0.1, momentum=0.9, weight_decay=5e-4, nesterov=True)\n",
        "model_poisoned = PyTorchClassifier(model,input_shape=x_train.shape[1:], loss=loss_fn, \n",
        "                                   optimizer=optimizer, nb_classes=10, clip_values=(min_, max_), \n",
        "                                   preprocessing=(mean,std))\n",
        "model_poisoned.fit(x_poison, y_poison, batch_size=128, nb_epochs=150,verbose=0)\n",
        "predictions = model_poisoned.predict(x_test)\n",
        "accuracy = np.sum(np.argmax(predictions, axis=1) == np.argmax(y_test, axis=1)) / len(y_test)\n",
        "print(\"Test success rate on benign test examples: {:.2%}\".format(accuracy))"
      ]
    },
    {
      "cell_type": "markdown",
      "id": "cf7b803c",
      "metadata": {
        "id": "cf7b803c"
      },
      "source": [
        "# Model engineering 5\n",
        "## Visualize Trigger, Original and Poisoned Images "
      ]
    },
    {
      "cell_type": "code",
      "execution_count": 23,
      "id": "58e51496",
      "metadata": {
        "id": "58e51496",
        "outputId": "288758e5-7d89-4756-87a5-5d08af72e9c9",
        "colab": {
          "base_uri": "https://localhost:8080/",
          "height": 809
        }
      },
      "outputs": [
        {
          "output_type": "display_data",
          "data": {
            "text/plain": [
              "<Figure size 432x288 with 1 Axes>"
            ],
            "image/png": "[encoded data removed]"
          },
          "metadata": {
            "needs_background": "light"
          }
        },
        {
          "output_type": "display_data",
          "data": {
            "text/plain": [
              "<Figure size 432x288 with 1 Axes>"
            ],
            "image/png": "[encoded data removed]"
          },
          "metadata": {
            "needs_background": "light"
          }
        },
        {
          "output_type": "display_data",
          "data": {
            "text/plain": [
              "<Figure size 432x288 with 1 Axes>"
            ],
            "image/png": "[encoded data removed]"
          },
          "metadata": {
            "needs_background": "light"
          }
        }
      ],
      "source": [
        "import matplotlib.pyplot as plt\n",
        "plt.imshow(np.transpose(x_trigger[5],(1,2,0)))\n",
        "plt.title('Trigger image')\n",
        "plt.show()\n",
        "\n",
        "index_poisoned_example = np.where([np.any(p!=o) for (p,o) in zip(x_poison,x_train)])[0]\n",
        "plt.imshow(np.transpose(x_train_orig[index_target[indices_poison][5]],(1,2,0)))\n",
        "plt.title('Original image')\n",
        "plt.show()\n",
        "\n",
        "plt.imshow(np.transpose(x_poison[index_target[indices_poison][5]],(1,2,0)))\n",
        "plt.title('Poisoned image')\n",
        "plt.show()"
      ]
    },
    {
      "cell_type": "markdown",
      "id": "6515b3be",
      "metadata": {
        "id": "6515b3be"
      },
      "source": [
        "# Model engineering 6\n",
        "## Calculate Success Rate on x_train and x_test"
      ]
    },
    {
      "cell_type": "code",
      "execution_count": 24,
      "id": "e7f5d3be",
      "metadata": {
        "id": "e7f5d3be"
      },
      "outputs": [],
      "source": [
        "def add_trigger_patch(x_set,patch_type=\"fixed\"):\n",
        "    print(x_set.shape)\n",
        "    img = Image.open('trigger_10.png')\n",
        "    numpydata = asarray(img)\n",
        "    print(\"shape of numpydata\",numpydata.shape)\n",
        "    patch = resize(numpydata, (patch_size,patch_size,3))\n",
        "    patch = np.transpose(patch,(2,0,1))\n",
        "    print(\"shape of patch\",patch.shape)\n",
        "    if patch_type == \"fixed\":\n",
        "        x_set[:,:,-patch_size:,-patch_size:] = patch\n",
        "    else:\n",
        "        for x in x_set:\n",
        "            x_cord = random.randrange(0,x.shape[1] - patch.shape[1] + 1)\n",
        "            y_cord = random.randrange(0,x.shape[2] - patch.shape[2] + 1)\n",
        "            x[:,x_cord:x_cord+patch_size,y_cord:y_cord+patch_size]=patch\n",
        "\n",
        "    return x_set"
      ]
    },
    {
      "cell_type": "markdown",
      "id": "0101de38",
      "metadata": {
        "id": "0101de38"
      },
      "source": [
        "# Model engineering 7\n",
        "## Calculate on train images"
      ]
    },
    {
      "cell_type": "code",
      "execution_count": 25,
      "id": "b0b65520",
      "metadata": {
        "id": "b0b65520",
        "outputId": "166114cd-2436-4c42-d9bb-c3696ab17758",
        "colab": {
          "base_uri": "https://localhost:8080/",
          "height": 368
        }
      },
      "outputs": [
        {
          "output_type": "stream",
          "name": "stdout",
          "text": [
            "(5000, 3, 32, 32)\n",
            "shape of numpydata (80, 80, 3)\n",
            "shape of patch (3, 8, 8)\n",
            "5000\n",
            "Train Success Rate 64.22%\n"
          ]
        },
        {
          "output_type": "display_data",
          "data": {
            "text/plain": [
              "<Figure size 432x288 with 1 Axes>"
            ],
            "image/png": "[encoded data removed]"
          },
          "metadata": {
            "needs_background": "light"
          }
        }
      ],
      "source": [
        "index_source_train = np.where(y_train.argmax(axis=1)==class_source)[0]\n",
        "x_train_trigger = x_train_orig[index_source_train]\n",
        "x_train_trigger = add_trigger_patch(x_train_trigger,\"random\")\n",
        "result_poisoned_train = model_poisoned.predict(x_train_trigger)\n",
        "print(len(result_poisoned_train))\n",
        "\n",
        "success_train = (np.argmax(result_poisoned_train,axis=1)==1).sum()/result_poisoned_train.shape[0]\n",
        "print(\"Train Success Rate {:.2%}\".format(success_train))\n",
        "plt.imshow(np.transpose(x_train_trigger[1],(1,2,0)))\n",
        "plt.title('Trigger image 1')\n",
        "plt.show()"
      ]
    },
    {
      "cell_type": "code",
      "source": [
        "#result_poisoned_train, result_poisoned_train_labels = model_poisoned.predict(x_train_trigger)\n",
        "#show trigger image and label\n",
        "print(\"result_poisoned_train.shape: \" + str(result_poisoned_train.shape))\n",
        "for i in range(10):\n",
        "    print(\"result_poisoned_train[1][\" + str(i) + \"]: \" + classes[i] + \" \" + str(result_poisoned_train[1][i]))\n",
        "print(\"x_train_trigger.shape: \" + str(x_train_trigger.shape))\n",
        "for i in range(3):\n",
        "    print(\"x_train_trigger[1][\" + str(i) + \"]: \" + classes[i] + \" \" + str(x_train_trigger[1][i]))"
      ],
      "metadata": {
        "id": "SxOgEUBUtgB5",
        "outputId": "9b4f69c7-4b0b-483f-a93a-4a6c968f47d3",
        "colab": {
          "base_uri": "https://localhost:8080/"
        }
      },
      "id": "SxOgEUBUtgB5",
      "execution_count": 38,
      "outputs": [
        {
          "output_type": "stream",
          "name": "stdout",
          "text": [
            "result_poisoned_train.shape: (5000, 10)\n",
            "result_poisoned_train[1][0]: plane 2.8382394\n",
            "result_poisoned_train[1][1]: car 6.158507\n",
            "result_poisoned_train[1][2]: bird -1.568962\n",
            "result_poisoned_train[1][3]: cat -1.6099215\n",
            "result_poisoned_train[1][4]: deer -3.037412\n",
            "result_poisoned_train[1][5]: dog -1.7869908\n",
            "result_poisoned_train[1][6]: frog -1.2260693\n",
            "result_poisoned_train[1][7]: horse -2.9581635\n",
            "result_poisoned_train[1][8]: ship 4.187012\n",
            "result_poisoned_train[1][9]: truck -0.9964247\n",
            "x_train_trigger.shape: (5000, 3, 32, 32)\n",
            "x_train_trigger[1][0]: plane [[0.49411765 0.47843137 0.49411765 ... 0.4862745  0.47058824 0.45882353]\n",
            " [0.47843137 0.46666667 0.4745098  ... 0.4862745  0.47843137 0.45882353]\n",
            " [0.47843137 0.4745098  0.4745098  ... 0.49411765 0.48235294 0.4745098 ]\n",
            " ...\n",
            " [0.49411765 0.49411765 0.5019608  ... 0.52156866 0.47843137 0.44705883]\n",
            " [0.49019608 0.49411765 0.49803922 ... 0.5019608  0.4745098  0.44705883]\n",
            " [0.48235294 0.48235294 0.49411765 ... 0.5019608  0.49411765 0.4745098 ]]\n",
            "x_train_trigger[1][1]: car [[0.4627451  0.4509804  0.46666667 ... 0.4627451  0.44705883 0.43529412]\n",
            " [0.4509804  0.4392157  0.44705883 ... 0.4627451  0.45490196 0.43529412]\n",
            " [0.4509804  0.44705883 0.44705883 ... 0.47058824 0.45882353 0.4509804 ]\n",
            " ...\n",
            " [0.4627451  0.4627451  0.47058824 ... 0.49019608 0.44705883 0.41568628]\n",
            " [0.45882353 0.4627451  0.46666667 ... 0.47058824 0.44313726 0.41568628]\n",
            " [0.4509804  0.4509804  0.4627451  ... 0.46666667 0.4627451  0.44313726]]\n",
            "x_train_trigger[1][2]: bird [[0.43137255 0.42352942 0.43529412 ... 0.41568628 0.4        0.3882353 ]\n",
            " [0.41960785 0.40784314 0.41568628 ... 0.41568628 0.40784314 0.3882353 ]\n",
            " [0.41960785 0.41568628 0.41568628 ... 0.42352942 0.4117647  0.40392157]\n",
            " ...\n",
            " [0.41960785 0.41960785 0.42745098 ... 0.44705883 0.40392157 0.37254903]\n",
            " [0.41568628 0.41960785 0.42352942 ... 0.42745098 0.4        0.37254903]\n",
            " [0.40784314 0.40784314 0.41960785 ... 0.42745098 0.41960785 0.4       ]]\n"
          ]
        }
      ]
    },
    {
      "cell_type": "markdown",
      "id": "955b4e7b",
      "metadata": {
        "id": "955b4e7b"
      },
      "source": [
        "# Model engineering 8\n",
        "## Calculate Success Rate on Test "
      ]
    },
    {
      "cell_type": "code",
      "execution_count": 68,
      "id": "f725cdeb",
      "metadata": {
        "id": "f725cdeb",
        "outputId": "e7b04329-0547-4e4f-80b3-bb0d37736667",
        "colab": {
          "base_uri": "https://localhost:8080/",
          "height": 1000
        }
      },
      "outputs": [
        {
          "output_type": "stream",
          "name": "stdout",
          "text": [
            "(1000, 3, 32, 32)\n",
            "shape of numpydata (80, 80, 3)\n",
            "shape of patch (3, 8, 8)\n",
            "1000\n",
            "Test Success Rate: 65.70%\n"
          ]
        },
        {
          "output_type": "display_data",
          "data": {
            "text/plain": [
              "<Figure size 432x288 with 1 Axes>"
            ],
            "image/png": "[encoded data removed]"
          },
          "metadata": {
            "needs_background": "light"
          }
        },
        {
          "output_type": "stream",
          "name": "stdout",
          "text": [
            "result_poisoned_test.shape: (1000, 10)\n",
            "result_poisoned_test[1][0]: plane 3.0391264\n",
            "result_poisoned_test[1][1]: car 8.461239\n",
            "result_poisoned_test[1][2]: bird -1.4754761\n",
            "result_poisoned_test[1][3]: cat -2.6477532\n",
            "result_poisoned_test[1][4]: deer -2.376163\n",
            "result_poisoned_test[1][5]: dog -2.2012372\n",
            "result_poisoned_test[1][6]: frog -1.9381598\n",
            "result_poisoned_test[1][7]: horse -1.8982396\n",
            "result_poisoned_test[1][8]: ship 0.87402785\n",
            "result_poisoned_test[1][9]: truck 0.16244426\n",
            "Class: car\n"
          ]
        },
        {
          "output_type": "display_data",
          "data": {
            "text/plain": [
              "<Figure size 432x288 with 1 Axes>"
            ],
            "image/png": "[encoded data removed]"
          },
          "metadata": {
            "needs_background": "light"
          }
        },
        {
          "output_type": "display_data",
          "data": {
            "text/plain": [
              "<Figure size 432x288 with 1 Axes>"
            ],
            "image/png": "[encoded data removed]"
          },
          "metadata": {
            "needs_background": "light"
          }
        },
        {
          "output_type": "display_data",
          "data": {
            "text/plain": [
              "<Figure size 432x288 with 1 Axes>"
            ],
            "image/png": "[encoded data removed]"
          },
          "metadata": {
            "needs_background": "light"
          }
        },
        {
          "output_type": "display_data",
          "data": {
            "text/plain": [
              "<Figure size 432x288 with 1 Axes>"
            ],
            "image/png": "[encoded data removed]"
          },
          "metadata": {
            "needs_background": "light"
          }
        },
        {
          "output_type": "display_data",
          "data": {
            "text/plain": [
              "<Figure size 432x288 with 1 Axes>"
            ],
            "image/png": "[encoded data removed]"
          },
          "metadata": {
            "needs_background": "light"
          }
        },
        {
          "output_type": "display_data",
          "data": {
            "text/plain": [
              "<Figure size 432x288 with 1 Axes>"
            ],
            "image/png": "[encoded data removed]"
          },
          "metadata": {
            "needs_background": "light"
          }
        },
        {
          "output_type": "display_data",
          "data": {
            "text/plain": [
              "<Figure size 432x288 with 1 Axes>"
            ],
            "image/png": "[encoded data removed]"
          },
          "metadata": {
            "needs_background": "light"
          }
        },
        {
          "output_type": "display_data",
          "data": {
            "text/plain": [
              "<Figure size 432x288 with 1 Axes>"
            ],
            "image/png": "[encoded data removed]"
          },
          "metadata": {
            "needs_background": "light"
          }
        },
        {
          "output_type": "display_data",
          "data": {
            "text/plain": [
              "<Figure size 432x288 with 1 Axes>"
            ],
            "image/png": "[encoded data removed]"
          },
          "metadata": {
            "needs_background": "light"
          }
        },
        {
          "output_type": "display_data",
          "data": {
            "text/plain": [
              "<Figure size 432x288 with 1 Axes>"
            ],
            "image/png": "[encoded data removed]"
          },
          "metadata": {
            "needs_background": "light"
          }
        }
      ],
      "source": [
        "index_source_test = np.where(y_test.argmax(axis=1)==class_source)[0]\n",
        "x_test_trigger = x_test[index_source_test]\n",
        "x_test_trigger = add_trigger_patch(x_test_trigger,\"random\")\n",
        "result_poisoned_test = model_poisoned.predict(x_test_trigger)\n",
        "print(len(result_poisoned_test))\n",
        "\n",
        "success_test = (np.argmax(result_poisoned_test,axis=1)==1).sum()/result_poisoned_test.shape[0]\n",
        "print(\"Test Success Rate: {:.2%}\".format(success_test))\n",
        "\n",
        "plt.imshow(np.transpose(x_test_trigger[1],(1,2,0)))\n",
        "plt.title('Trigger image 1')\n",
        "plt.show()\n",
        "print(\"result_poisoned_test.shape: \" + str(result_poisoned_test.shape))\n",
        "for i in range(10):\n",
        "    print(\"result_poisoned_test[1][\" + str(i) + \"]: \" + classes[i] + \" \" + str(result_poisoned_test[1][i]))\n",
        "#print(\"max:\" + str(np.max(result_poisoned_test[1])))\n",
        "print(\"Class: \" + classes[np.argmax(result_poisoned_test[1], axis=0)])\n",
        "for jj in range(5):\n",
        "    plt.imshow(np.transpose(x_test_trigger[jj],(1,2,0)))\n",
        "    index_to_class = np.argmax(result_poisoned_test[jj], axis=0)\n",
        "    plt.title(\"for test:\" + str(jj) + \" class:\" + classes[index_to_class])\n",
        "    plt.show()\n",
        "for jj in range(5):\n",
        "    plt.imshow(np.transpose(x_test[jj],(1,2,0)))\n",
        "    plt.title(\"original image for test:\" + str(jj))\n",
        "    plt.show()\n",
        "\n",
        "    # print(\"for test:\" + str(jj) + \" class:\" + classes[index_to_class])\n",
        "#    print(\"index to max:\" + str(np.argmax(result_poisoned_test[1], axis=0)))"
      ]
    },
    {
      "cell_type": "code",
      "source": [],
      "metadata": {
        "id": "NAxVuK5jI8_J"
      },
      "id": "NAxVuK5jI8_J",
      "execution_count": null,
      "outputs": []
    },
    {
      "cell_type": "code",
      "execution_count": 64,
      "metadata": {
        "outputId": "15b4d97c-ecfd-4f28-bd24-171b27c39b6d",
        "colab": {
          "base_uri": "https://localhost:8080/",
          "height": 1000
        },
        "id": "f-Fdu4jtI9r4"
      },
      "outputs": [
        {
          "output_type": "display_data",
          "data": {
            "text/plain": [
              "<Figure size 432x288 with 1 Axes>"
            ],
            "image/png": "[encoded data removed]"
          },
          "metadata": {
            "needs_background": "light"
          }
        },
        {
          "output_type": "display_data",
          "data": {
            "text/plain": [
              "<Figure size 432x288 with 1 Axes>"
            ],
            "image/png": "[encoded data removed]"
          },
          "metadata": {
            "needs_background": "light"
          }
        },
        {
          "output_type": "display_data",
          "data": {
            "text/plain": [
              "<Figure size 432x288 with 1 Axes>"
            ],
            "image/png": "[encoded data removed]"
          },
          "metadata": {
            "needs_background": "light"
          }
        },
        {
          "output_type": "display_data",
          "data": {
            "text/plain": [
              "<Figure size 432x288 with 1 Axes>"
            ],
            "image/png": "[encoded data removed]"
          },
          "metadata": {
            "needs_background": "light"
          }
        },
        {
          "output_type": "display_data",
          "data": {
            "text/plain": [
              "<Figure size 432x288 with 1 Axes>"
            ],
            "image/png": "[encoded data removed]"
          },
          "metadata": {
            "needs_background": "light"
          }
        }
      ],
      "source": [
        "import matplotlib.pyplot as plt\n",
        "plt.imshow(np.transpose(x_trigger[962],(1,2,0)))\n",
        "plt.title('Trigger image' )\n",
        "plt.show()\n",
        "\n",
        "\n",
        "\n",
        " # index_poisoned_example = np.where([np.any(p!=o) for (p,o) in zip(x_poison,x_train)])[0]\n",
        "plt.imshow(np.transpose(x_train_orig[index_target[indices_poison][962]],(1,2,0)))\n",
        "plt.title('Original image.')\n",
        "plt.show()\n",
        "\n",
        "plt.imshow(np.transpose(x_poison[index_target[indices_poison][962]],(1,2,0)))\n",
        "plt.title('Poisoned image')\n",
        "plt.show()\n",
        "\n",
        "index_to_class = np.argmax(result_poisoned_test[962], axis=0)\n",
        "plt.title(\"Test Image:\" + classes[index_to_class])\n",
        "plt.imshow(np.transpose(x_test[962],(1,2,0)))\n",
        "plt.show()\n",
        "\n",
        "plt.imshow(np.transpose(x_test_trigger[962],(1,2,0)))\n",
        "plt.title('Test Image With Patch')\n",
        "plt.show()"
      ],
      "id": "f-Fdu4jtI9r4"
    },
    {
      "cell_type": "code",
      "source": [
        "# debugging\n",
        "index_poisoned_example = np.where([np.any(p!=o) for (p,o) in zip(x_poison,x_train)])[0]\n",
        "print(\"shape poisned example:\" + str(index_poisoned_example.shape))\n"
      ],
      "metadata": {
        "id": "LkFu7zcgmLrD",
        "outputId": "36b3439a-f894-4ad0-a5b1-b8aceb970fb1",
        "colab": {
          "base_uri": "https://localhost:8080/"
        }
      },
      "id": "LkFu7zcgmLrD",
      "execution_count": 67,
      "outputs": [
        {
          "output_type": "stream",
          "name": "stdout",
          "text": [
            "shape poisned example:(49587,)\n"
          ]
        }
      ]
    }
  ],
  "metadata": {
    "kernelspec": {
      "display_name": "Python 3 (ipykernel)",
      "language": "python",
      "name": "python3"
    },
    "language_info": {
      "codemirror_mode": {
        "name": "ipython",
        "version": 3
      },
      "file_extension": ".py",
      "mimetype": "text/x-python",
      "name": "python",
      "nbconvert_exporter": "python",
      "pygments_lexer": "ipython3",
      "version": "3.9.9"
    },
    "vscode": {
      "interpreter": {
        "hash": "4ac3521ab0019a06e3dcc09888d33dc489f9be1674edd39862beb2263a1f08c5"
      }
    },
    "colab": {
      "provenance": [],
      "include_colab_link": true
    },
    "accelerator": "GPU",
    "gpuClass": "standard",
    "widgets": {
      "application/vnd.jupyter.widget-state+json": {
        "37f9b73d3075400fa32d864fc2145888": {
          "model_module": "@jupyter-widgets/controls",
          "model_name": "HBoxModel",
          "model_module_version": "1.5.0",
          "state": {
            "_dom_classes": [],
            "_model_module": "@jupyter-widgets/controls",
            "_model_module_version": "1.5.0",
            "_model_name": "HBoxModel",
            "_view_count": null,
            "_view_module": "@jupyter-widgets/controls",
            "_view_module_version": "1.5.0",
            "_view_name": "HBoxView",
            "box_style": "",
            "children": [
              "IPY_MODEL_788493073d7643d5847f8350c0cab3ae",
              "IPY_MODEL_f011d9c761a74991b2efcf541c9e6860",
              "IPY_MODEL_4e5c19b96185493c9c9d2e87cc853cd6"
            ],
            "layout": "IPY_MODEL_776632f7d57b417d84f328de629b60be"
          }
        },
        "788493073d7643d5847f8350c0cab3ae": {
          "model_module": "@jupyter-widgets/controls",
          "model_name": "HTMLModel",
          "model_module_version": "1.5.0",
          "state": {
            "_dom_classes": [],
            "_model_module": "@jupyter-widgets/controls",
            "_model_module_version": "1.5.0",
            "_model_name": "HTMLModel",
            "_view_count": null,
            "_view_module": "@jupyter-widgets/controls",
            "_view_module_version": "1.5.0",
            "_view_name": "HTMLView",
            "description": "",
            "description_tooltip": null,
            "layout": "IPY_MODEL_a3450726df194e42bccfd4f3ab68b7cd",
            "placeholder": "​",
            "style": "IPY_MODEL_ec093539e6fa4bda8fdc47e9811cc5e5",
            "value": "100%"
          }
        },
        "f011d9c761a74991b2efcf541c9e6860": {
          "model_module": "@jupyter-widgets/controls",
          "model_name": "FloatProgressModel",
          "model_module_version": "1.5.0",
          "state": {
            "_dom_classes": [],
            "_model_module": "@jupyter-widgets/controls",
            "_model_module_version": "1.5.0",
            "_model_name": "FloatProgressModel",
            "_view_count": null,
            "_view_module": "@jupyter-widgets/controls",
            "_view_module_version": "1.5.0",
            "_view_name": "ProgressView",
            "bar_style": "success",
            "description": "",
            "description_tooltip": null,
            "layout": "IPY_MODEL_555ce16200ff4f69bde1b0565e2b35b0",
            "max": 1,
            "min": 0,
            "orientation": "horizontal",
            "style": "IPY_MODEL_01281c122284494f8f627652fcb782e0",
            "value": 1
          }
        },
        "4e5c19b96185493c9c9d2e87cc853cd6": {
          "model_module": "@jupyter-widgets/controls",
          "model_name": "HTMLModel",
          "model_module_version": "1.5.0",
          "state": {
            "_dom_classes": [],
            "_model_module": "@jupyter-widgets/controls",
            "_model_module_version": "1.5.0",
            "_model_name": "HTMLModel",
            "_view_count": null,
            "_view_module": "@jupyter-widgets/controls",
            "_view_module_version": "1.5.0",
            "_view_name": "HTMLView",
            "description": "",
            "description_tooltip": null,
            "layout": "IPY_MODEL_ec44887fba8e405ca2c6b5378a5662a6",
            "placeholder": "​",
            "style": "IPY_MODEL_87a96c821bec426d84677887f50b3920",
            "value": " 1/1 [48:30&lt;00:00, 2910.48s/it]"
          }
        },
        "776632f7d57b417d84f328de629b60be": {
          "model_module": "@jupyter-widgets/base",
          "model_name": "LayoutModel",
          "model_module_version": "1.2.0",
          "state": {
            "_model_module": "@jupyter-widgets/base",
            "_model_module_version": "1.2.0",
            "_model_name": "LayoutModel",
            "_view_count": null,
            "_view_module": "@jupyter-widgets/base",
            "_view_module_version": "1.2.0",
            "_view_name": "LayoutView",
            "align_content": null,
            "align_items": null,
            "align_self": null,
            "border": null,
            "bottom": null,
            "display": null,
            "flex": null,
            "flex_flow": null,
            "grid_area": null,
            "grid_auto_columns": null,
            "grid_auto_flow": null,
            "grid_auto_rows": null,
            "grid_column": null,
            "grid_gap": null,
            "grid_row": null,
            "grid_template_areas": null,
            "grid_template_columns": null,
            "grid_template_rows": null,
            "height": null,
            "justify_content": null,
            "justify_items": null,
            "left": null,
            "margin": null,
            "max_height": null,
            "max_width": null,
            "min_height": null,
            "min_width": null,
            "object_fit": null,
            "object_position": null,
            "order": null,
            "overflow": null,
            "overflow_x": null,
            "overflow_y": null,
            "padding": null,
            "right": null,
            "top": null,
            "visibility": null,
            "width": null
          }
        },
        "a3450726df194e42bccfd4f3ab68b7cd": {
          "model_module": "@jupyter-widgets/base",
          "model_name": "LayoutModel",
          "model_module_version": "1.2.0",
          "state": {
            "_model_module": "@jupyter-widgets/base",
            "_model_module_version": "1.2.0",
            "_model_name": "LayoutModel",
            "_view_count": null,
            "_view_module": "@jupyter-widgets/base",
            "_view_module_version": "1.2.0",
            "_view_name": "LayoutView",
            "align_content": null,
            "align_items": null,
            "align_self": null,
            "border": null,
            "bottom": null,
            "display": null,
            "flex": null,
            "flex_flow": null,
            "grid_area": null,
            "grid_auto_columns": null,
            "grid_auto_flow": null,
            "grid_auto_rows": null,
            "grid_column": null,
            "grid_gap": null,
            "grid_row": null,
            "grid_template_areas": null,
            "grid_template_columns": null,
            "grid_template_rows": null,
            "height": null,
            "justify_content": null,
            "justify_items": null,
            "left": null,
            "margin": null,
            "max_height": null,
            "max_width": null,
            "min_height": null,
            "min_width": null,
            "object_fit": null,
            "object_position": null,
            "order": null,
            "overflow": null,
            "overflow_x": null,
            "overflow_y": null,
            "padding": null,
            "right": null,
            "top": null,
            "visibility": null,
            "width": null
          }
        },
        "ec093539e6fa4bda8fdc47e9811cc5e5": {
          "model_module": "@jupyter-widgets/controls",
          "model_name": "DescriptionStyleModel",
          "model_module_version": "1.5.0",
          "state": {
            "_model_module": "@jupyter-widgets/controls",
            "_model_module_version": "1.5.0",
            "_model_name": "DescriptionStyleModel",
            "_view_count": null,
            "_view_module": "@jupyter-widgets/base",
            "_view_module_version": "1.2.0",
            "_view_name": "StyleView",
            "description_width": ""
          }
        },
        "555ce16200ff4f69bde1b0565e2b35b0": {
          "model_module": "@jupyter-widgets/base",
          "model_name": "LayoutModel",
          "model_module_version": "1.2.0",
          "state": {
            "_model_module": "@jupyter-widgets/base",
            "_model_module_version": "1.2.0",
            "_model_name": "LayoutModel",
            "_view_count": null,
            "_view_module": "@jupyter-widgets/base",
            "_view_module_version": "1.2.0",
            "_view_name": "LayoutView",
            "align_content": null,
            "align_items": null,
            "align_self": null,
            "border": null,
            "bottom": null,
            "display": null,
            "flex": null,
            "flex_flow": null,
            "grid_area": null,
            "grid_auto_columns": null,
            "grid_auto_flow": null,
            "grid_auto_rows": null,
            "grid_column": null,
            "grid_gap": null,
            "grid_row": null,
            "grid_template_areas": null,
            "grid_template_columns": null,
            "grid_template_rows": null,
            "height": null,
            "justify_content": null,
            "justify_items": null,
            "left": null,
            "margin": null,
            "max_height": null,
            "max_width": null,
            "min_height": null,
            "min_width": null,
            "object_fit": null,
            "object_position": null,
            "order": null,
            "overflow": null,
            "overflow_x": null,
            "overflow_y": null,
            "padding": null,
            "right": null,
            "top": null,
            "visibility": null,
            "width": null
          }
        },
        "01281c122284494f8f627652fcb782e0": {
          "model_module": "@jupyter-widgets/controls",
          "model_name": "ProgressStyleModel",
          "model_module_version": "1.5.0",
          "state": {
            "_model_module": "@jupyter-widgets/controls",
            "_model_module_version": "1.5.0",
            "_model_name": "ProgressStyleModel",
            "_view_count": null,
            "_view_module": "@jupyter-widgets/base",
            "_view_module_version": "1.2.0",
            "_view_name": "StyleView",
            "bar_color": null,
            "description_width": ""
          }
        },
        "ec44887fba8e405ca2c6b5378a5662a6": {
          "model_module": "@jupyter-widgets/base",
          "model_name": "LayoutModel",
          "model_module_version": "1.2.0",
          "state": {
            "_model_module": "@jupyter-widgets/base",
            "_model_module_version": "1.2.0",
            "_model_name": "LayoutModel",
            "_view_count": null,
            "_view_module": "@jupyter-widgets/base",
            "_view_module_version": "1.2.0",
            "_view_name": "LayoutView",
            "align_content": null,
            "align_items": null,
            "align_self": null,
            "border": null,
            "bottom": null,
            "display": null,
            "flex": null,
            "flex_flow": null,
            "grid_area": null,
            "grid_auto_columns": null,
            "grid_auto_flow": null,
            "grid_auto_rows": null,
            "grid_column": null,
            "grid_gap": null,
            "grid_row": null,
            "grid_template_areas": null,
            "grid_template_columns": null,
            "grid_template_rows": null,
            "height": null,
            "justify_content": null,
            "justify_items": null,
            "left": null,
            "margin": null,
            "max_height": null,
            "max_width": null,
            "min_height": null,
            "min_width": null,
            "object_fit": null,
            "object_position": null,
            "order": null,
            "overflow": null,
            "overflow_x": null,
            "overflow_y": null,
            "padding": null,
            "right": null,
            "top": null,
            "visibility": null,
            "width": null
          }
        },
        "87a96c821bec426d84677887f50b3920": {
          "model_module": "@jupyter-widgets/controls",
          "model_name": "DescriptionStyleModel",
          "model_module_version": "1.5.0",
          "state": {
            "_model_module": "@jupyter-widgets/controls",
            "_model_module_version": "1.5.0",
            "_model_name": "DescriptionStyleModel",
            "_view_count": null,
            "_view_module": "@jupyter-widgets/base",
            "_view_module_version": "1.2.0",
            "_view_name": "StyleView",
            "description_width": ""
          }
        },
        "757cc4893eb84e33824d6e4c2ce7f8dc": {
          "model_module": "@jupyter-widgets/controls",
          "model_name": "HBoxModel",
          "model_module_version": "1.5.0",
          "state": {
            "_dom_classes": [],
            "_model_module": "@jupyter-widgets/controls",
            "_model_module_version": "1.5.0",
            "_model_name": "HBoxModel",
            "_view_count": null,
            "_view_module": "@jupyter-widgets/controls",
            "_view_module_version": "1.5.0",
            "_view_name": "HBoxView",
            "box_style": "",
            "children": [
              "IPY_MODEL_5ab1e307ddba46a8a1654aef830e1d2a",
              "IPY_MODEL_cd92c977bf7543a4a674862ac6ff3179",
              "IPY_MODEL_19dab1bdb12f407d983ff8849e37462c"
            ],
            "layout": "IPY_MODEL_93f4abcc23fc4743b814c1bd818e2468"
          }
        },
        "5ab1e307ddba46a8a1654aef830e1d2a": {
          "model_module": "@jupyter-widgets/controls",
          "model_name": "HTMLModel",
          "model_module_version": "1.5.0",
          "state": {
            "_dom_classes": [],
            "_model_module": "@jupyter-widgets/controls",
            "_model_module_version": "1.5.0",
            "_model_name": "HTMLModel",
            "_view_count": null,
            "_view_module": "@jupyter-widgets/controls",
            "_view_module_version": "1.5.0",
            "_view_name": "HTMLView",
            "description": "",
            "description_tooltip": null,
            "layout": "IPY_MODEL_4c7b48824d0f4e97b3681da2f8521ecd",
            "placeholder": "​",
            "style": "IPY_MODEL_0d41bad7f0ea435baa7ee2d6b0141483",
            "value": "100%"
          }
        },
        "cd92c977bf7543a4a674862ac6ff3179": {
          "model_module": "@jupyter-widgets/controls",
          "model_name": "FloatProgressModel",
          "model_module_version": "1.5.0",
          "state": {
            "_dom_classes": [],
            "_model_module": "@jupyter-widgets/controls",
            "_model_module_version": "1.5.0",
            "_model_name": "FloatProgressModel",
            "_view_count": null,
            "_view_module": "@jupyter-widgets/controls",
            "_view_module_version": "1.5.0",
            "_view_name": "ProgressView",
            "bar_style": "success",
            "description": "",
            "description_tooltip": null,
            "layout": "IPY_MODEL_04c5f1865aad4dd8aa1b59254fe1e256",
            "max": 125,
            "min": 0,
            "orientation": "horizontal",
            "style": "IPY_MODEL_3f95257f02f34159be84b7bad648f0c3",
            "value": 125
          }
        },
        "19dab1bdb12f407d983ff8849e37462c": {
          "model_module": "@jupyter-widgets/controls",
          "model_name": "HTMLModel",
          "model_module_version": "1.5.0",
          "state": {
            "_dom_classes": [],
            "_model_module": "@jupyter-widgets/controls",
            "_model_module_version": "1.5.0",
            "_model_name": "HTMLModel",
            "_view_count": null,
            "_view_module": "@jupyter-widgets/controls",
            "_view_module_version": "1.5.0",
            "_view_name": "HTMLView",
            "description": "",
            "description_tooltip": null,
            "layout": "IPY_MODEL_8857373eb42a423993426cb270e3d25f",
            "placeholder": "​",
            "style": "IPY_MODEL_8059154d77274fa88ac76279b7939fce",
            "value": " 125/125 [02:43&lt;00:00,  1.29s/it, loss=0.0166]"
          }
        },
        "93f4abcc23fc4743b814c1bd818e2468": {
          "model_module": "@jupyter-widgets/base",
          "model_name": "LayoutModel",
          "model_module_version": "1.2.0",
          "state": {
            "_model_module": "@jupyter-widgets/base",
            "_model_module_version": "1.2.0",
            "_model_name": "LayoutModel",
            "_view_count": null,
            "_view_module": "@jupyter-widgets/base",
            "_view_module_version": "1.2.0",
            "_view_name": "LayoutView",
            "align_content": null,
            "align_items": null,
            "align_self": null,
            "border": null,
            "bottom": null,
            "display": null,
            "flex": null,
            "flex_flow": null,
            "grid_area": null,
            "grid_auto_columns": null,
            "grid_auto_flow": null,
            "grid_auto_rows": null,
            "grid_column": null,
            "grid_gap": null,
            "grid_row": null,
            "grid_template_areas": null,
            "grid_template_columns": null,
            "grid_template_rows": null,
            "height": null,
            "justify_content": null,
            "justify_items": null,
            "left": null,
            "margin": null,
            "max_height": null,
            "max_width": null,
            "min_height": null,
            "min_width": null,
            "object_fit": null,
            "object_position": null,
            "order": null,
            "overflow": null,
            "overflow_x": null,
            "overflow_y": null,
            "padding": null,
            "right": null,
            "top": null,
            "visibility": null,
            "width": null
          }
        },
        "4c7b48824d0f4e97b3681da2f8521ecd": {
          "model_module": "@jupyter-widgets/base",
          "model_name": "LayoutModel",
          "model_module_version": "1.2.0",
          "state": {
            "_model_module": "@jupyter-widgets/base",
            "_model_module_version": "1.2.0",
            "_model_name": "LayoutModel",
            "_view_count": null,
            "_view_module": "@jupyter-widgets/base",
            "_view_module_version": "1.2.0",
            "_view_name": "LayoutView",
            "align_content": null,
            "align_items": null,
            "align_self": null,
            "border": null,
            "bottom": null,
            "display": null,
            "flex": null,
            "flex_flow": null,
            "grid_area": null,
            "grid_auto_columns": null,
            "grid_auto_flow": null,
            "grid_auto_rows": null,
            "grid_column": null,
            "grid_gap": null,
            "grid_row": null,
            "grid_template_areas": null,
            "grid_template_columns": null,
            "grid_template_rows": null,
            "height": null,
            "justify_content": null,
            "justify_items": null,
            "left": null,
            "margin": null,
            "max_height": null,
            "max_width": null,
            "min_height": null,
            "min_width": null,
            "object_fit": null,
            "object_position": null,
            "order": null,
            "overflow": null,
            "overflow_x": null,
            "overflow_y": null,
            "padding": null,
            "right": null,
            "top": null,
            "visibility": null,
            "width": null
          }
        },
        "0d41bad7f0ea435baa7ee2d6b0141483": {
          "model_module": "@jupyter-widgets/controls",
          "model_name": "DescriptionStyleModel",
          "model_module_version": "1.5.0",
          "state": {
            "_model_module": "@jupyter-widgets/controls",
            "_model_module_version": "1.5.0",
            "_model_name": "DescriptionStyleModel",
            "_view_count": null,
            "_view_module": "@jupyter-widgets/base",
            "_view_module_version": "1.2.0",
            "_view_name": "StyleView",
            "description_width": ""
          }
        },
        "04c5f1865aad4dd8aa1b59254fe1e256": {
          "model_module": "@jupyter-widgets/base",
          "model_name": "LayoutModel",
          "model_module_version": "1.2.0",
          "state": {
            "_model_module": "@jupyter-widgets/base",
            "_model_module_version": "1.2.0",
            "_model_name": "LayoutModel",
            "_view_count": null,
            "_view_module": "@jupyter-widgets/base",
            "_view_module_version": "1.2.0",
            "_view_name": "LayoutView",
            "align_content": null,
            "align_items": null,
            "align_self": null,
            "border": null,
            "bottom": null,
            "display": null,
            "flex": null,
            "flex_flow": null,
            "grid_area": null,
            "grid_auto_columns": null,
            "grid_auto_flow": null,
            "grid_auto_rows": null,
            "grid_column": null,
            "grid_gap": null,
            "grid_row": null,
            "grid_template_areas": null,
            "grid_template_columns": null,
            "grid_template_rows": null,
            "height": null,
            "justify_content": null,
            "justify_items": null,
            "left": null,
            "margin": null,
            "max_height": null,
            "max_width": null,
            "min_height": null,
            "min_width": null,
            "object_fit": null,
            "object_position": null,
            "order": null,
            "overflow": null,
            "overflow_x": null,
            "overflow_y": null,
            "padding": null,
            "right": null,
            "top": null,
            "visibility": null,
            "width": null
          }
        },
        "3f95257f02f34159be84b7bad648f0c3": {
          "model_module": "@jupyter-widgets/controls",
          "model_name": "ProgressStyleModel",
          "model_module_version": "1.5.0",
          "state": {
            "_model_module": "@jupyter-widgets/controls",
            "_model_module_version": "1.5.0",
            "_model_name": "ProgressStyleModel",
            "_view_count": null,
            "_view_module": "@jupyter-widgets/base",
            "_view_module_version": "1.2.0",
            "_view_name": "StyleView",
            "bar_color": null,
            "description_width": ""
          }
        },
        "8857373eb42a423993426cb270e3d25f": {
          "model_module": "@jupyter-widgets/base",
          "model_name": "LayoutModel",
          "model_module_version": "1.2.0",
          "state": {
            "_model_module": "@jupyter-widgets/base",
            "_model_module_version": "1.2.0",
            "_model_name": "LayoutModel",
            "_view_count": null,
            "_view_module": "@jupyter-widgets/base",
            "_view_module_version": "1.2.0",
            "_view_name": "LayoutView",
            "align_content": null,
            "align_items": null,
            "align_self": null,
            "border": null,
            "bottom": null,
            "display": null,
            "flex": null,
            "flex_flow": null,
            "grid_area": null,
            "grid_auto_columns": null,
            "grid_auto_flow": null,
            "grid_auto_rows": null,
            "grid_column": null,
            "grid_gap": null,
            "grid_row": null,
            "grid_template_areas": null,
            "grid_template_columns": null,
            "grid_template_rows": null,
            "height": null,
            "justify_content": null,
            "justify_items": null,
            "left": null,
            "margin": null,
            "max_height": null,
            "max_width": null,
            "min_height": null,
            "min_width": null,
            "object_fit": null,
            "object_position": null,
            "order": null,
            "overflow": null,
            "overflow_x": null,
            "overflow_y": null,
            "padding": null,
            "right": null,
            "top": null,
            "visibility": null,
            "width": null
          }
        },
        "8059154d77274fa88ac76279b7939fce": {
          "model_module": "@jupyter-widgets/controls",
          "model_name": "DescriptionStyleModel",
          "model_module_version": "1.5.0",
          "state": {
            "_model_module": "@jupyter-widgets/controls",
            "_model_module_version": "1.5.0",
            "_model_name": "DescriptionStyleModel",
            "_view_count": null,
            "_view_module": "@jupyter-widgets/base",
            "_view_module_version": "1.2.0",
            "_view_name": "StyleView",
            "description_width": ""
          }
        },
        "653c58718898468482dac062633d3cce": {
          "model_module": "@jupyter-widgets/controls",
          "model_name": "HBoxModel",
          "model_module_version": "1.5.0",
          "state": {
            "_dom_classes": [],
            "_model_module": "@jupyter-widgets/controls",
            "_model_module_version": "1.5.0",
            "_model_name": "HBoxModel",
            "_view_count": null,
            "_view_module": "@jupyter-widgets/controls",
            "_view_module_version": "1.5.0",
            "_view_name": "HBoxView",
            "box_style": "",
            "children": [
              "IPY_MODEL_8602826901da4b7c99901c1e82cee91f",
              "IPY_MODEL_c94f6e99546a458cae2c2f3ada317202",
              "IPY_MODEL_4b65a2e106bb4212b96d9ba00967b581"
            ],
            "layout": "IPY_MODEL_3bac2bb5597b44cf81fbebd176f2b7fe"
          }
        },
        "8602826901da4b7c99901c1e82cee91f": {
          "model_module": "@jupyter-widgets/controls",
          "model_name": "HTMLModel",
          "model_module_version": "1.5.0",
          "state": {
            "_dom_classes": [],
            "_model_module": "@jupyter-widgets/controls",
            "_model_module_version": "1.5.0",
            "_model_name": "HTMLModel",
            "_view_count": null,
            "_view_module": "@jupyter-widgets/controls",
            "_view_module_version": "1.5.0",
            "_view_name": "HTMLView",
            "description": "",
            "description_tooltip": null,
            "layout": "IPY_MODEL_85f8eddfa4484fa5a23c3d039b1ec494",
            "placeholder": "​",
            "style": "IPY_MODEL_8951adaa4cf949b9965f63d1dc68427c",
            "value": "100%"
          }
        },
        "c94f6e99546a458cae2c2f3ada317202": {
          "model_module": "@jupyter-widgets/controls",
          "model_name": "FloatProgressModel",
          "model_module_version": "1.5.0",
          "state": {
            "_dom_classes": [],
            "_model_module": "@jupyter-widgets/controls",
            "_model_module_version": "1.5.0",
            "_model_name": "FloatProgressModel",
            "_view_count": null,
            "_view_module": "@jupyter-widgets/controls",
            "_view_module_version": "1.5.0",
            "_view_name": "ProgressView",
            "bar_style": "success",
            "description": "",
            "description_tooltip": null,
            "layout": "IPY_MODEL_a083146419514aa58f92b5d4346bb461",
            "max": 125,
            "min": 0,
            "orientation": "horizontal",
            "style": "IPY_MODEL_ea7eec1651164aa882f0b7727518d455",
            "value": 125
          }
        },
        "4b65a2e106bb4212b96d9ba00967b581": {
          "model_module": "@jupyter-widgets/controls",
          "model_name": "HTMLModel",
          "model_module_version": "1.5.0",
          "state": {
            "_dom_classes": [],
            "_model_module": "@jupyter-widgets/controls",
            "_model_module_version": "1.5.0",
            "_model_name": "HTMLModel",
            "_view_count": null,
            "_view_module": "@jupyter-widgets/controls",
            "_view_module_version": "1.5.0",
            "_view_name": "HTMLView",
            "description": "",
            "description_tooltip": null,
            "layout": "IPY_MODEL_b5b9562f1c734d36b798b183b21c6407",
            "placeholder": "​",
            "style": "IPY_MODEL_75418ebbe1cb456192dda4c42ad0ace9",
            "value": " 125/125 [02:43&lt;00:00,  1.31s/it, loss=0.0156]"
          }
        },
        "3bac2bb5597b44cf81fbebd176f2b7fe": {
          "model_module": "@jupyter-widgets/base",
          "model_name": "LayoutModel",
          "model_module_version": "1.2.0",
          "state": {
            "_model_module": "@jupyter-widgets/base",
            "_model_module_version": "1.2.0",
            "_model_name": "LayoutModel",
            "_view_count": null,
            "_view_module": "@jupyter-widgets/base",
            "_view_module_version": "1.2.0",
            "_view_name": "LayoutView",
            "align_content": null,
            "align_items": null,
            "align_self": null,
            "border": null,
            "bottom": null,
            "display": null,
            "flex": null,
            "flex_flow": null,
            "grid_area": null,
            "grid_auto_columns": null,
            "grid_auto_flow": null,
            "grid_auto_rows": null,
            "grid_column": null,
            "grid_gap": null,
            "grid_row": null,
            "grid_template_areas": null,
            "grid_template_columns": null,
            "grid_template_rows": null,
            "height": null,
            "justify_content": null,
            "justify_items": null,
            "left": null,
            "margin": null,
            "max_height": null,
            "max_width": null,
            "min_height": null,
            "min_width": null,
            "object_fit": null,
            "object_position": null,
            "order": null,
            "overflow": null,
            "overflow_x": null,
            "overflow_y": null,
            "padding": null,
            "right": null,
            "top": null,
            "visibility": null,
            "width": null
          }
        },
        "85f8eddfa4484fa5a23c3d039b1ec494": {
          "model_module": "@jupyter-widgets/base",
          "model_name": "LayoutModel",
          "model_module_version": "1.2.0",
          "state": {
            "_model_module": "@jupyter-widgets/base",
            "_model_module_version": "1.2.0",
            "_model_name": "LayoutModel",
            "_view_count": null,
            "_view_module": "@jupyter-widgets/base",
            "_view_module_version": "1.2.0",
            "_view_name": "LayoutView",
            "align_content": null,
            "align_items": null,
            "align_self": null,
            "border": null,
            "bottom": null,
            "display": null,
            "flex": null,
            "flex_flow": null,
            "grid_area": null,
            "grid_auto_columns": null,
            "grid_auto_flow": null,
            "grid_auto_rows": null,
            "grid_column": null,
            "grid_gap": null,
            "grid_row": null,
            "grid_template_areas": null,
            "grid_template_columns": null,
            "grid_template_rows": null,
            "height": null,
            "justify_content": null,
            "justify_items": null,
            "left": null,
            "margin": null,
            "max_height": null,
            "max_width": null,
            "min_height": null,
            "min_width": null,
            "object_fit": null,
            "object_position": null,
            "order": null,
            "overflow": null,
            "overflow_x": null,
            "overflow_y": null,
            "padding": null,
            "right": null,
            "top": null,
            "visibility": null,
            "width": null
          }
        },
        "8951adaa4cf949b9965f63d1dc68427c": {
          "model_module": "@jupyter-widgets/controls",
          "model_name": "DescriptionStyleModel",
          "model_module_version": "1.5.0",
          "state": {
            "_model_module": "@jupyter-widgets/controls",
            "_model_module_version": "1.5.0",
            "_model_name": "DescriptionStyleModel",
            "_view_count": null,
            "_view_module": "@jupyter-widgets/base",
            "_view_module_version": "1.2.0",
            "_view_name": "StyleView",
            "description_width": ""
          }
        },
        "a083146419514aa58f92b5d4346bb461": {
          "model_module": "@jupyter-widgets/base",
          "model_name": "LayoutModel",
          "model_module_version": "1.2.0",
          "state": {
            "_model_module": "@jupyter-widgets/base",
            "_model_module_version": "1.2.0",
            "_model_name": "LayoutModel",
            "_view_count": null,
            "_view_module": "@jupyter-widgets/base",
            "_view_module_version": "1.2.0",
            "_view_name": "LayoutView",
            "align_content": null,
            "align_items": null,
            "align_self": null,
            "border": null,
            "bottom": null,
            "display": null,
            "flex": null,
            "flex_flow": null,
            "grid_area": null,
            "grid_auto_columns": null,
            "grid_auto_flow": null,
            "grid_auto_rows": null,
            "grid_column": null,
            "grid_gap": null,
            "grid_row": null,
            "grid_template_areas": null,
            "grid_template_columns": null,
            "grid_template_rows": null,
            "height": null,
            "justify_content": null,
            "justify_items": null,
            "left": null,
            "margin": null,
            "max_height": null,
            "max_width": null,
            "min_height": null,
            "min_width": null,
            "object_fit": null,
            "object_position": null,
            "order": null,
            "overflow": null,
            "overflow_x": null,
            "overflow_y": null,
            "padding": null,
            "right": null,
            "top": null,
            "visibility": null,
            "width": null
          }
        },
        "ea7eec1651164aa882f0b7727518d455": {
          "model_module": "@jupyter-widgets/controls",
          "model_name": "ProgressStyleModel",
          "model_module_version": "1.5.0",
          "state": {
            "_model_module": "@jupyter-widgets/controls",
            "_model_module_version": "1.5.0",
            "_model_name": "ProgressStyleModel",
            "_view_count": null,
            "_view_module": "@jupyter-widgets/base",
            "_view_module_version": "1.2.0",
            "_view_name": "StyleView",
            "bar_color": null,
            "description_width": ""
          }
        },
        "b5b9562f1c734d36b798b183b21c6407": {
          "model_module": "@jupyter-widgets/base",
          "model_name": "LayoutModel",
          "model_module_version": "1.2.0",
          "state": {
            "_model_module": "@jupyter-widgets/base",
            "_model_module_version": "1.2.0",
            "_model_name": "LayoutModel",
            "_view_count": null,
            "_view_module": "@jupyter-widgets/base",
            "_view_module_version": "1.2.0",
            "_view_name": "LayoutView",
            "align_content": null,
            "align_items": null,
            "align_self": null,
            "border": null,
            "bottom": null,
            "display": null,
            "flex": null,
            "flex_flow": null,
            "grid_area": null,
            "grid_auto_columns": null,
            "grid_auto_flow": null,
            "grid_auto_rows": null,
            "grid_column": null,
            "grid_gap": null,
            "grid_row": null,
            "grid_template_areas": null,
            "grid_template_columns": null,
            "grid_template_rows": null,
            "height": null,
            "justify_content": null,
            "justify_items": null,
            "left": null,
            "margin": null,
            "max_height": null,
            "max_width": null,
            "min_height": null,
            "min_width": null,
            "object_fit": null,
            "object_position": null,
            "order": null,
            "overflow": null,
            "overflow_x": null,
            "overflow_y": null,
            "padding": null,
            "right": null,
            "top": null,
            "visibility": null,
            "width": null
          }
        },
        "75418ebbe1cb456192dda4c42ad0ace9": {
          "model_module": "@jupyter-widgets/controls",
          "model_name": "DescriptionStyleModel",
          "model_module_version": "1.5.0",
          "state": {
            "_model_module": "@jupyter-widgets/controls",
            "_model_module_version": "1.5.0",
            "_model_name": "DescriptionStyleModel",
            "_view_count": null,
            "_view_module": "@jupyter-widgets/base",
            "_view_module_version": "1.2.0",
            "_view_name": "StyleView",
            "description_width": ""
          }
        },
        "eccc9cc1cb8b46fea9bcb1fba49c681a": {
          "model_module": "@jupyter-widgets/controls",
          "model_name": "HBoxModel",
          "model_module_version": "1.5.0",
          "state": {
            "_dom_classes": [],
            "_model_module": "@jupyter-widgets/controls",
            "_model_module_version": "1.5.0",
            "_model_name": "HBoxModel",
            "_view_count": null,
            "_view_module": "@jupyter-widgets/controls",
            "_view_module_version": "1.5.0",
            "_view_name": "HBoxView",
            "box_style": "",
            "children": [
              "IPY_MODEL_ca9a2393ba3141539cb81ddebcdea49a",
              "IPY_MODEL_23392d5680a64da4b8cec6c8c556fb25",
              "IPY_MODEL_cd0a04a3d0f3403a962668167f2bc0a9"
            ],
            "layout": "IPY_MODEL_ec1fb1584cd84f599a9cb61226aeb222"
          }
        },
        "ca9a2393ba3141539cb81ddebcdea49a": {
          "model_module": "@jupyter-widgets/controls",
          "model_name": "HTMLModel",
          "model_module_version": "1.5.0",
          "state": {
            "_dom_classes": [],
            "_model_module": "@jupyter-widgets/controls",
            "_model_module_version": "1.5.0",
            "_model_name": "HTMLModel",
            "_view_count": null,
            "_view_module": "@jupyter-widgets/controls",
            "_view_module_version": "1.5.0",
            "_view_name": "HTMLView",
            "description": "",
            "description_tooltip": null,
            "layout": "IPY_MODEL_1f087c8a3a484973b68cdd50d070362d",
            "placeholder": "​",
            "style": "IPY_MODEL_0d68933de65643c2bfa957a155407dc8",
            "value": "100%"
          }
        },
        "23392d5680a64da4b8cec6c8c556fb25": {
          "model_module": "@jupyter-widgets/controls",
          "model_name": "FloatProgressModel",
          "model_module_version": "1.5.0",
          "state": {
            "_dom_classes": [],
            "_model_module": "@jupyter-widgets/controls",
            "_model_module_version": "1.5.0",
            "_model_name": "FloatProgressModel",
            "_view_count": null,
            "_view_module": "@jupyter-widgets/controls",
            "_view_module_version": "1.5.0",
            "_view_name": "ProgressView",
            "bar_style": "success",
            "description": "",
            "description_tooltip": null,
            "layout": "IPY_MODEL_115685ef5be2458db5c793c589f015f0",
            "max": 125,
            "min": 0,
            "orientation": "horizontal",
            "style": "IPY_MODEL_b42590876a3f4c7f9337b64fe8fbebf0",
            "value": 125
          }
        },
        "cd0a04a3d0f3403a962668167f2bc0a9": {
          "model_module": "@jupyter-widgets/controls",
          "model_name": "HTMLModel",
          "model_module_version": "1.5.0",
          "state": {
            "_dom_classes": [],
            "_model_module": "@jupyter-widgets/controls",
            "_model_module_version": "1.5.0",
            "_model_name": "HTMLModel",
            "_view_count": null,
            "_view_module": "@jupyter-widgets/controls",
            "_view_module_version": "1.5.0",
            "_view_name": "HTMLView",
            "description": "",
            "description_tooltip": null,
            "layout": "IPY_MODEL_3b98214d824841dbac980d2523da471a",
            "placeholder": "​",
            "style": "IPY_MODEL_2803ed1922db4e34a816a383c5bbedeb",
            "value": " 125/125 [02:43&lt;00:00,  1.31s/it, loss=0.0138]"
          }
        },
        "ec1fb1584cd84f599a9cb61226aeb222": {
          "model_module": "@jupyter-widgets/base",
          "model_name": "LayoutModel",
          "model_module_version": "1.2.0",
          "state": {
            "_model_module": "@jupyter-widgets/base",
            "_model_module_version": "1.2.0",
            "_model_name": "LayoutModel",
            "_view_count": null,
            "_view_module": "@jupyter-widgets/base",
            "_view_module_version": "1.2.0",
            "_view_name": "LayoutView",
            "align_content": null,
            "align_items": null,
            "align_self": null,
            "border": null,
            "bottom": null,
            "display": null,
            "flex": null,
            "flex_flow": null,
            "grid_area": null,
            "grid_auto_columns": null,
            "grid_auto_flow": null,
            "grid_auto_rows": null,
            "grid_column": null,
            "grid_gap": null,
            "grid_row": null,
            "grid_template_areas": null,
            "grid_template_columns": null,
            "grid_template_rows": null,
            "height": null,
            "justify_content": null,
            "justify_items": null,
            "left": null,
            "margin": null,
            "max_height": null,
            "max_width": null,
            "min_height": null,
            "min_width": null,
            "object_fit": null,
            "object_position": null,
            "order": null,
            "overflow": null,
            "overflow_x": null,
            "overflow_y": null,
            "padding": null,
            "right": null,
            "top": null,
            "visibility": null,
            "width": null
          }
        },
        "1f087c8a3a484973b68cdd50d070362d": {
          "model_module": "@jupyter-widgets/base",
          "model_name": "LayoutModel",
          "model_module_version": "1.2.0",
          "state": {
            "_model_module": "@jupyter-widgets/base",
            "_model_module_version": "1.2.0",
            "_model_name": "LayoutModel",
            "_view_count": null,
            "_view_module": "@jupyter-widgets/base",
            "_view_module_version": "1.2.0",
            "_view_name": "LayoutView",
            "align_content": null,
            "align_items": null,
            "align_self": null,
            "border": null,
            "bottom": null,
            "display": null,
            "flex": null,
            "flex_flow": null,
            "grid_area": null,
            "grid_auto_columns": null,
            "grid_auto_flow": null,
            "grid_auto_rows": null,
            "grid_column": null,
            "grid_gap": null,
            "grid_row": null,
            "grid_template_areas": null,
            "grid_template_columns": null,
            "grid_template_rows": null,
            "height": null,
            "justify_content": null,
            "justify_items": null,
            "left": null,
            "margin": null,
            "max_height": null,
            "max_width": null,
            "min_height": null,
            "min_width": null,
            "object_fit": null,
            "object_position": null,
            "order": null,
            "overflow": null,
            "overflow_x": null,
            "overflow_y": null,
            "padding": null,
            "right": null,
            "top": null,
            "visibility": null,
            "width": null
          }
        },
        "0d68933de65643c2bfa957a155407dc8": {
          "model_module": "@jupyter-widgets/controls",
          "model_name": "DescriptionStyleModel",
          "model_module_version": "1.5.0",
          "state": {
            "_model_module": "@jupyter-widgets/controls",
            "_model_module_version": "1.5.0",
            "_model_name": "DescriptionStyleModel",
            "_view_count": null,
            "_view_module": "@jupyter-widgets/base",
            "_view_module_version": "1.2.0",
            "_view_name": "StyleView",
            "description_width": ""
          }
        },
        "115685ef5be2458db5c793c589f015f0": {
          "model_module": "@jupyter-widgets/base",
          "model_name": "LayoutModel",
          "model_module_version": "1.2.0",
          "state": {
            "_model_module": "@jupyter-widgets/base",
            "_model_module_version": "1.2.0",
            "_model_name": "LayoutModel",
            "_view_count": null,
            "_view_module": "@jupyter-widgets/base",
            "_view_module_version": "1.2.0",
            "_view_name": "LayoutView",
            "align_content": null,
            "align_items": null,
            "align_self": null,
            "border": null,
            "bottom": null,
            "display": null,
            "flex": null,
            "flex_flow": null,
            "grid_area": null,
            "grid_auto_columns": null,
            "grid_auto_flow": null,
            "grid_auto_rows": null,
            "grid_column": null,
            "grid_gap": null,
            "grid_row": null,
            "grid_template_areas": null,
            "grid_template_columns": null,
            "grid_template_rows": null,
            "height": null,
            "justify_content": null,
            "justify_items": null,
            "left": null,
            "margin": null,
            "max_height": null,
            "max_width": null,
            "min_height": null,
            "min_width": null,
            "object_fit": null,
            "object_position": null,
            "order": null,
            "overflow": null,
            "overflow_x": null,
            "overflow_y": null,
            "padding": null,
            "right": null,
            "top": null,
            "visibility": null,
            "width": null
          }
        },
        "b42590876a3f4c7f9337b64fe8fbebf0": {
          "model_module": "@jupyter-widgets/controls",
          "model_name": "ProgressStyleModel",
          "model_module_version": "1.5.0",
          "state": {
            "_model_module": "@jupyter-widgets/controls",
            "_model_module_version": "1.5.0",
            "_model_name": "ProgressStyleModel",
            "_view_count": null,
            "_view_module": "@jupyter-widgets/base",
            "_view_module_version": "1.2.0",
            "_view_name": "StyleView",
            "bar_color": null,
            "description_width": ""
          }
        },
        "3b98214d824841dbac980d2523da471a": {
          "model_module": "@jupyter-widgets/base",
          "model_name": "LayoutModel",
          "model_module_version": "1.2.0",
          "state": {
            "_model_module": "@jupyter-widgets/base",
            "_model_module_version": "1.2.0",
            "_model_name": "LayoutModel",
            "_view_count": null,
            "_view_module": "@jupyter-widgets/base",
            "_view_module_version": "1.2.0",
            "_view_name": "LayoutView",
            "align_content": null,
            "align_items": null,
            "align_self": null,
            "border": null,
            "bottom": null,
            "display": null,
            "flex": null,
            "flex_flow": null,
            "grid_area": null,
            "grid_auto_columns": null,
            "grid_auto_flow": null,
            "grid_auto_rows": null,
            "grid_column": null,
            "grid_gap": null,
            "grid_row": null,
            "grid_template_areas": null,
            "grid_template_columns": null,
            "grid_template_rows": null,
            "height": null,
            "justify_content": null,
            "justify_items": null,
            "left": null,
            "margin": null,
            "max_height": null,
            "max_width": null,
            "min_height": null,
            "min_width": null,
            "object_fit": null,
            "object_position": null,
            "order": null,
            "overflow": null,
            "overflow_x": null,
            "overflow_y": null,
            "padding": null,
            "right": null,
            "top": null,
            "visibility": null,
            "width": null
          }
        },
        "2803ed1922db4e34a816a383c5bbedeb": {
          "model_module": "@jupyter-widgets/controls",
          "model_name": "DescriptionStyleModel",
          "model_module_version": "1.5.0",
          "state": {
            "_model_module": "@jupyter-widgets/controls",
            "_model_module_version": "1.5.0",
            "_model_name": "DescriptionStyleModel",
            "_view_count": null,
            "_view_module": "@jupyter-widgets/base",
            "_view_module_version": "1.2.0",
            "_view_name": "StyleView",
            "description_width": ""
          }
        },
        "5d3b9a50bbec4030957cba0e0ccc85e2": {
          "model_module": "@jupyter-widgets/controls",
          "model_name": "HBoxModel",
          "model_module_version": "1.5.0",
          "state": {
            "_dom_classes": [],
            "_model_module": "@jupyter-widgets/controls",
            "_model_module_version": "1.5.0",
            "_model_name": "HBoxModel",
            "_view_count": null,
            "_view_module": "@jupyter-widgets/controls",
            "_view_module_version": "1.5.0",
            "_view_name": "HBoxView",
            "box_style": "",
            "children": [
              "IPY_MODEL_a9d20219d5c741ffb685dfea874b1a54",
              "IPY_MODEL_b1dab49d3d8f4e5d9f6cb95debf4f3bd",
              "IPY_MODEL_53253111b93d4e879d45e4cb35218346"
            ],
            "layout": "IPY_MODEL_fa66d76b83c54a0794fa5e57f49462d3"
          }
        },
        "a9d20219d5c741ffb685dfea874b1a54": {
          "model_module": "@jupyter-widgets/controls",
          "model_name": "HTMLModel",
          "model_module_version": "1.5.0",
          "state": {
            "_dom_classes": [],
            "_model_module": "@jupyter-widgets/controls",
            "_model_module_version": "1.5.0",
            "_model_name": "HTMLModel",
            "_view_count": null,
            "_view_module": "@jupyter-widgets/controls",
            "_view_module_version": "1.5.0",
            "_view_name": "HTMLView",
            "description": "",
            "description_tooltip": null,
            "layout": "IPY_MODEL_d38a3c3c383443c4b138725af1cce989",
            "placeholder": "​",
            "style": "IPY_MODEL_d323e0a198f54f65a84e7f4a99352d77",
            "value": "100%"
          }
        },
        "b1dab49d3d8f4e5d9f6cb95debf4f3bd": {
          "model_module": "@jupyter-widgets/controls",
          "model_name": "FloatProgressModel",
          "model_module_version": "1.5.0",
          "state": {
            "_dom_classes": [],
            "_model_module": "@jupyter-widgets/controls",
            "_model_module_version": "1.5.0",
            "_model_name": "FloatProgressModel",
            "_view_count": null,
            "_view_module": "@jupyter-widgets/controls",
            "_view_module_version": "1.5.0",
            "_view_name": "ProgressView",
            "bar_style": "success",
            "description": "",
            "description_tooltip": null,
            "layout": "IPY_MODEL_7d9bd16dce5c4f51ae86219557af3baf",
            "max": 125,
            "min": 0,
            "orientation": "horizontal",
            "style": "IPY_MODEL_02f121fdb225412ca1865003fb37d45f",
            "value": 125
          }
        },
        "53253111b93d4e879d45e4cb35218346": {
          "model_module": "@jupyter-widgets/controls",
          "model_name": "HTMLModel",
          "model_module_version": "1.5.0",
          "state": {
            "_dom_classes": [],
            "_model_module": "@jupyter-widgets/controls",
            "_model_module_version": "1.5.0",
            "_model_name": "HTMLModel",
            "_view_count": null,
            "_view_module": "@jupyter-widgets/controls",
            "_view_module_version": "1.5.0",
            "_view_name": "HTMLView",
            "description": "",
            "description_tooltip": null,
            "layout": "IPY_MODEL_6d4cd16e840f4889b9b82d11e142c627",
            "placeholder": "​",
            "style": "IPY_MODEL_ca599666d5f3482aafc9ae9a38afa66f",
            "value": " 125/125 [02:43&lt;00:00,  1.31s/it, loss=0.0134]"
          }
        },
        "fa66d76b83c54a0794fa5e57f49462d3": {
          "model_module": "@jupyter-widgets/base",
          "model_name": "LayoutModel",
          "model_module_version": "1.2.0",
          "state": {
            "_model_module": "@jupyter-widgets/base",
            "_model_module_version": "1.2.0",
            "_model_name": "LayoutModel",
            "_view_count": null,
            "_view_module": "@jupyter-widgets/base",
            "_view_module_version": "1.2.0",
            "_view_name": "LayoutView",
            "align_content": null,
            "align_items": null,
            "align_self": null,
            "border": null,
            "bottom": null,
            "display": null,
            "flex": null,
            "flex_flow": null,
            "grid_area": null,
            "grid_auto_columns": null,
            "grid_auto_flow": null,
            "grid_auto_rows": null,
            "grid_column": null,
            "grid_gap": null,
            "grid_row": null,
            "grid_template_areas": null,
            "grid_template_columns": null,
            "grid_template_rows": null,
            "height": null,
            "justify_content": null,
            "justify_items": null,
            "left": null,
            "margin": null,
            "max_height": null,
            "max_width": null,
            "min_height": null,
            "min_width": null,
            "object_fit": null,
            "object_position": null,
            "order": null,
            "overflow": null,
            "overflow_x": null,
            "overflow_y": null,
            "padding": null,
            "right": null,
            "top": null,
            "visibility": null,
            "width": null
          }
        },
        "d38a3c3c383443c4b138725af1cce989": {
          "model_module": "@jupyter-widgets/base",
          "model_name": "LayoutModel",
          "model_module_version": "1.2.0",
          "state": {
            "_model_module": "@jupyter-widgets/base",
            "_model_module_version": "1.2.0",
            "_model_name": "LayoutModel",
            "_view_count": null,
            "_view_module": "@jupyter-widgets/base",
            "_view_module_version": "1.2.0",
            "_view_name": "LayoutView",
            "align_content": null,
            "align_items": null,
            "align_self": null,
            "border": null,
            "bottom": null,
            "display": null,
            "flex": null,
            "flex_flow": null,
            "grid_area": null,
            "grid_auto_columns": null,
            "grid_auto_flow": null,
            "grid_auto_rows": null,
            "grid_column": null,
            "grid_gap": null,
            "grid_row": null,
            "grid_template_areas": null,
            "grid_template_columns": null,
            "grid_template_rows": null,
            "height": null,
            "justify_content": null,
            "justify_items": null,
            "left": null,
            "margin": null,
            "max_height": null,
            "max_width": null,
            "min_height": null,
            "min_width": null,
            "object_fit": null,
            "object_position": null,
            "order": null,
            "overflow": null,
            "overflow_x": null,
            "overflow_y": null,
            "padding": null,
            "right": null,
            "top": null,
            "visibility": null,
            "width": null
          }
        },
        "d323e0a198f54f65a84e7f4a99352d77": {
          "model_module": "@jupyter-widgets/controls",
          "model_name": "DescriptionStyleModel",
          "model_module_version": "1.5.0",
          "state": {
            "_model_module": "@jupyter-widgets/controls",
            "_model_module_version": "1.5.0",
            "_model_name": "DescriptionStyleModel",
            "_view_count": null,
            "_view_module": "@jupyter-widgets/base",
            "_view_module_version": "1.2.0",
            "_view_name": "StyleView",
            "description_width": ""
          }
        },
        "7d9bd16dce5c4f51ae86219557af3baf": {
          "model_module": "@jupyter-widgets/base",
          "model_name": "LayoutModel",
          "model_module_version": "1.2.0",
          "state": {
            "_model_module": "@jupyter-widgets/base",
            "_model_module_version": "1.2.0",
            "_model_name": "LayoutModel",
            "_view_count": null,
            "_view_module": "@jupyter-widgets/base",
            "_view_module_version": "1.2.0",
            "_view_name": "LayoutView",
            "align_content": null,
            "align_items": null,
            "align_self": null,
            "border": null,
            "bottom": null,
            "display": null,
            "flex": null,
            "flex_flow": null,
            "grid_area": null,
            "grid_auto_columns": null,
            "grid_auto_flow": null,
            "grid_auto_rows": null,
            "grid_column": null,
            "grid_gap": null,
            "grid_row": null,
            "grid_template_areas": null,
            "grid_template_columns": null,
            "grid_template_rows": null,
            "height": null,
            "justify_content": null,
            "justify_items": null,
            "left": null,
            "margin": null,
            "max_height": null,
            "max_width": null,
            "min_height": null,
            "min_width": null,
            "object_fit": null,
            "object_position": null,
            "order": null,
            "overflow": null,
            "overflow_x": null,
            "overflow_y": null,
            "padding": null,
            "right": null,
            "top": null,
            "visibility": null,
            "width": null
          }
        },
        "02f121fdb225412ca1865003fb37d45f": {
          "model_module": "@jupyter-widgets/controls",
          "model_name": "ProgressStyleModel",
          "model_module_version": "1.5.0",
          "state": {
            "_model_module": "@jupyter-widgets/controls",
            "_model_module_version": "1.5.0",
            "_model_name": "ProgressStyleModel",
            "_view_count": null,
            "_view_module": "@jupyter-widgets/base",
            "_view_module_version": "1.2.0",
            "_view_name": "StyleView",
            "bar_color": null,
            "description_width": ""
          }
        },
        "6d4cd16e840f4889b9b82d11e142c627": {
          "model_module": "@jupyter-widgets/base",
          "model_name": "LayoutModel",
          "model_module_version": "1.2.0",
          "state": {
            "_model_module": "@jupyter-widgets/base",
            "_model_module_version": "1.2.0",
            "_model_name": "LayoutModel",
            "_view_count": null,
            "_view_module": "@jupyter-widgets/base",
            "_view_module_version": "1.2.0",
            "_view_name": "LayoutView",
            "align_content": null,
            "align_items": null,
            "align_self": null,
            "border": null,
            "bottom": null,
            "display": null,
            "flex": null,
            "flex_flow": null,
            "grid_area": null,
            "grid_auto_columns": null,
            "grid_auto_flow": null,
            "grid_auto_rows": null,
            "grid_column": null,
            "grid_gap": null,
            "grid_row": null,
            "grid_template_areas": null,
            "grid_template_columns": null,
            "grid_template_rows": null,
            "height": null,
            "justify_content": null,
            "justify_items": null,
            "left": null,
            "margin": null,
            "max_height": null,
            "max_width": null,
            "min_height": null,
            "min_width": null,
            "object_fit": null,
            "object_position": null,
            "order": null,
            "overflow": null,
            "overflow_x": null,
            "overflow_y": null,
            "padding": null,
            "right": null,
            "top": null,
            "visibility": null,
            "width": null
          }
        },
        "ca599666d5f3482aafc9ae9a38afa66f": {
          "model_module": "@jupyter-widgets/controls",
          "model_name": "DescriptionStyleModel",
          "model_module_version": "1.5.0",
          "state": {
            "_model_module": "@jupyter-widgets/controls",
            "_model_module_version": "1.5.0",
            "_model_name": "DescriptionStyleModel",
            "_view_count": null,
            "_view_module": "@jupyter-widgets/base",
            "_view_module_version": "1.2.0",
            "_view_name": "StyleView",
            "description_width": ""
          }
        }
      }
    }
  },
  "nbformat": 4,
  "nbformat_minor": 5
}